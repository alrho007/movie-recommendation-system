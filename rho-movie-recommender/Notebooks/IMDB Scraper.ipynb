{
 "cells": [
  {
   "cell_type": "code",
   "execution_count": 1,
   "id": "b90ee817",
   "metadata": {},
   "outputs": [],
   "source": [
    "import numpy as np\n",
    "import pandas as pd\n",
    "import requests\n",
    "import csv\n",
    "from selenium import webdriver\n",
    "from bs4 import BeautifulSoup"
   ]
  },
  {
   "cell_type": "code",
   "execution_count": 2,
   "id": "0817ab35",
   "metadata": {},
   "outputs": [],
   "source": [
    "pages = np.arange(1,1000,50)\n",
    "#genres = ['sci-fi', 'comedy', 'action', 'thriller', 'drama', 'romance', 'crime', 'animation', 'sport', 'talk-show']"
   ]
  },
  {
   "cell_type": "code",
   "execution_count": 3,
   "id": "5519e9de",
   "metadata": {},
   "outputs": [],
   "source": [
    "def get_url(search_movie):\n",
    "    template = \"https://www.imdb.com/search/title/?genres={}\"\n",
    "    url = template.format(search_movie)\n",
    "    url += \"&start={}\"\n",
    "    return url\n",
    "\n",
    "def extract_details(movie):\n",
    "    \"\"\"Extract the movie details\"\"\"\n",
    "    #Movie title\n",
    "    title = movie.h3.a.text\n",
    "    #MovieId\n",
    "    movieID = movie.h3.a['href'][9:17]\n",
    "    #Overview\n",
    "    summary = movie.find_all('p', attrs={'class': \"text-muted\"})\n",
    "    overview = summary[1].text\n",
    "    #Year of release\n",
    "    year = movie.h3.find('span', class_=\"lister-item-year text-muted unbold\").text[1:5]\n",
    "    #Movie duration   \n",
    "    try:    \n",
    "        duration = movie.p.find('span', attrs={'class': \"runtime\"}).text\n",
    "    except AttributeError:\n",
    "        duration = ''    \n",
    "    #Genres\n",
    "    try:\n",
    "        genre = movie.p.find('span', attrs={'class': \"genre\"}).text\n",
    "    except AttributeError:\n",
    "        genre = ''\n",
    "    #Certificates\n",
    "    try:\n",
    "        cert = movie.p.find('span', attrs={'class': \"certificate\"}).text\n",
    "    except AttributeError:\n",
    "        cert = ''    \n",
    "    #Ratings\n",
    "    try:    \n",
    "        rating = movie.find('div', class_= \"inline-block ratings-imdb-rating\").text.replace('\\n', '')\n",
    "    except AttributeError:\n",
    "        rating = ''\n",
    "    #Votes\n",
    "    try:\n",
    "        votes = movie.find('span', attrs={'name': 'nv'}).text\n",
    "    except AttributeError:\n",
    "        votes = ''\n",
    "    #Extract the urls of all images\n",
    "    images = movie.img['src']\n",
    "    result = (title, movieID, overview, year, duration, genre, rating, votes, cert, images)\n",
    "    return result\n",
    "\n",
    "def main(search_movie):\n",
    "    path = \"C:/Users/AL RHO/Desktop/Old/DS_Practice/chromedriver.exe\"\n",
    "    driver = webdriver.Chrome(path)\n",
    "    \n",
    "    records = []\n",
    "    url = get_url(search_movie)\n",
    "    \n",
    "    for page in pages:\n",
    "        driver.get(url.format(page))\n",
    "        page = requests.get(url)\n",
    "        soup = BeautifulSoup(driver.page_source, 'html.parser')\n",
    "        movie_data = soup.find_all('div', attrs={'class': 'lister-item mode-advanced'})\n",
    "        \n",
    "        for item in movie_data:\n",
    "            record = extract_details(item)\n",
    "            if record:\n",
    "                records.append(record)\n",
    "    #Saving the data to a csv file\n",
    "    with open('crime.csv', 'w', newline='', encoding='utf-8') as f:\n",
    "        writer = csv.writer(f)\n",
    "        writer.writerow(['Title','MovieID', 'Overview', 'YearofRelease', 'Runtime', 'Genre', 'Rating', 'Votes', 'Certificate', 'Images'])\n",
    "        writer.writerows(records)"
   ]
  },
  {
   "cell_type": "code",
   "execution_count": null,
   "id": "3ca47194",
   "metadata": {},
   "outputs": [
    {
     "name": "stderr",
     "output_type": "stream",
     "text": [
      "C:\\Users\\AL RHO\\AppData\\Local\\Temp\\ipykernel_14724\\3165887485.py:50: DeprecationWarning: executable_path has been deprecated, please pass in a Service object\n",
      "  driver = webdriver.Chrome(path)\n"
     ]
    }
   ],
   "source": [
    "main('crime')"
   ]
  },
  {
   "cell_type": "code",
   "execution_count": null,
   "id": "355f8c55",
   "metadata": {},
   "outputs": [],
   "source": []
  }
 ],
 "metadata": {
  "kernelspec": {
   "display_name": "Python 3 (ipykernel)",
   "language": "python",
   "name": "python3"
  },
  "language_info": {
   "codemirror_mode": {
    "name": "ipython",
    "version": 3
   },
   "file_extension": ".py",
   "mimetype": "text/x-python",
   "name": "python",
   "nbconvert_exporter": "python",
   "pygments_lexer": "ipython3",
   "version": "3.9.12"
  }
 },
 "nbformat": 4,
 "nbformat_minor": 5
}
