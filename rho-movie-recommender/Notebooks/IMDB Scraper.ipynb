{
 "cells": [
  {
   "cell_type": "code",
   "execution_count": 1,
   "id": "b90ee817",
   "metadata": {},
   "outputs": [],
   "source": [
    "import numpy as np\n",
    "import pandas as pd\n",
    "import requests\n",
    "import csv\n",
    "from selenium import webdriver\n",
    "from bs4 import BeautifulSoup"
   ]
  },
  {
   "cell_type": "code",
   "execution_count": 2,
   "id": "0817ab35",
   "metadata": {},
   "outputs": [],
   "source": [
    "pages = np.arange(1,1000,50)\n",
    "#genres = ['sci-fi', 'comedy', 'action', 'thriller', 'drama', 'romance', 'crime', 'animation', 'sport', 'talk-show']"
   ]
  },
  {
   "cell_type": "code",
   "execution_count": 3,
   "id": "5519e9de",
   "metadata": {},
   "outputs": [],
   "source": [
    "def get_url(search_movie):\n",
    "    template = \"https://www.imdb.com/search/title/?genres={}\"\n",
    "    url = template.format(search_movie)\n",
    "    url += \"&start={}\"\n",
    "    return url\n",
    "\n",
    "def extract_details(movie):\n",
    "    \"\"\"Extract the movie details\"\"\"\n",
    "    #Movie title\n",
    "    title = movie.h3.a.text\n",
    "    #MovieId\n",
    "    movieID = movie.h3.a['href'][9:17]\n",
    "    #Overview\n",
    "    summary = movie.find_all('p', attrs={'class': \"text-muted\"})\n",
    "    overview = summary[1].text\n",
    "    #Year of release\n",
    "    year = movie.h3.find('span', class_=\"lister-item-year text-muted unbold\").text[1:5]\n",
    "    #Movie duration   \n",
    "    try:    \n",
    "        duration = movie.p.find('span', attrs={'class': \"runtime\"}).text\n",
    "    except AttributeError:\n",
    "        duration = ''    \n",
    "    #Genres\n",
    "    try:\n",
    "        genre = movie.p.find('span', attrs={'class': \"genre\"}).text\n",
    "    except AttributeError:\n",
    "        genre = ''\n",
    "    #Certificates\n",
    "    try:\n",
    "        cert = movie.p.find('span', attrs={'class': \"certificate\"}).text\n",
    "    except AttributeError:\n",
    "        cert = ''    \n",
    "    #Ratings\n",
    "    try:    \n",
    "        rating = movie.find('div', class_= \"inline-block ratings-imdb-rating\").text.replace('\\n', '')\n",
    "    except AttributeError:\n",
    "        rating = ''\n",
    "    #Votes\n",
    "    try:\n",
    "        votes = movie.find('span', attrs={'name': 'nv'}).text\n",
    "    except AttributeError:\n",
    "        votes = ''\n",
    "    #Extract the urls of all images\n",
    "    images = movie.img['src']\n",
    "    result = (title, movieID, overview, year, duration, genre, rating, votes, cert, images)\n",
    "    return result\n",
    "\n",
    "def main(search_movie):\n",
    "    path = \"C:/Users/AL RHO/Desktop/Old/DS_Practice/chromedriver.exe\"\n",
    "    driver = webdriver.Chrome(path)\n",
    "    \n",
    "    records = []\n",
    "    url = get_url(search_movie)\n",
    "    \n",
    "    for page in pages:\n",
    "        driver.get(url.format(page))\n",
    "        page = requests.get(url)\n",
    "        soup = BeautifulSoup(driver.page_source, 'html.parser')\n",
    "        movie_data = soup.find_all('div', attrs={'class': 'lister-item mode-advanced'})\n",
    "        \n",
    "        for item in movie_data:\n",
    "            record = extract_details(item)\n",
    "            if record:\n",
    "                records.append(record)\n",
    "    #Saving the data to a csv file\n",
    "    with open('crime.csv', 'w', newline='', encoding='utf-8') as f:\n",
    "        writer = csv.writer(f)\n",
    "        writer.writerow(['Title','MovieID', 'Overview', 'YearofRelease', 'Runtime', 'Genre', 'Rating', 'Votes', 'Certificate', 'Images'])\n",
    "        writer.writerows(records)"
   ]
  },
  {
   "cell_type": "code",
   "execution_count": 4,
   "id": "3ca47194",
   "metadata": {},
   "outputs": [
    {
     "name": "stderr",
     "output_type": "stream",
     "text": [
      "C:\\Users\\AL RHO\\AppData\\Local\\Temp\\ipykernel_14724\\3165887485.py:50: DeprecationWarning: executable_path has been deprecated, please pass in a Service object\n",
      "  driver = webdriver.Chrome(path)\n"
     ]
    },
    {
     "ename": "WebDriverException",
     "evalue": "Message: chrome not reachable\n  (Session info: chrome=103.0.5060.114)\nStacktrace:\nBacktrace:\n\tOrdinal0 [0x00CA6463+2188387]\n\tOrdinal0 [0x00C3E461+1762401]\n\tOrdinal0 [0x00B53C40+801856]\n\tOrdinal0 [0x00B48932+756018]\n\tOrdinal0 [0x00B49168+758120]\n\tOrdinal0 [0x00B4AA22+764450]\n\tOrdinal0 [0x00B44379+738169]\n\tOrdinal0 [0x00B550D0+807120]\n\tOrdinal0 [0x00BAC402+1164290]\n\tOrdinal0 [0x00B9C5F6+1099254]\n\tOrdinal0 [0x00B76BE0+945120]\n\tOrdinal0 [0x00B77AD6+948950]\n\tGetHandleVerifier [0x00F471F2+2712546]\n\tGetHandleVerifier [0x00F3886D+2652765]\n\tGetHandleVerifier [0x00D3002A+520730]\n\tGetHandleVerifier [0x00D2EE06+516086]\n\tOrdinal0 [0x00C4468B+1787531]\n\tOrdinal0 [0x00C48E88+1805960]\n\tOrdinal0 [0x00C48F75+1806197]\n\tOrdinal0 [0x00C51DF1+1842673]\n\tBaseThreadInitThunk [0x7710FA29+25]\n\tRtlGetAppContainerNamedObjectPath [0x77C37A9E+286]\n\tRtlGetAppContainerNamedObjectPath [0x77C37A6E+238]\n",
     "output_type": "error",
     "traceback": [
      "\u001b[1;31m---------------------------------------------------------------------------\u001b[0m",
      "\u001b[1;31mWebDriverException\u001b[0m                        Traceback (most recent call last)",
      "Input \u001b[1;32mIn [4]\u001b[0m, in \u001b[0;36m<cell line: 1>\u001b[1;34m()\u001b[0m\n\u001b[1;32m----> 1\u001b[0m \u001b[43mmain\u001b[49m\u001b[43m(\u001b[49m\u001b[38;5;124;43m'\u001b[39;49m\u001b[38;5;124;43mcrime\u001b[39;49m\u001b[38;5;124;43m'\u001b[39;49m\u001b[43m)\u001b[49m\n",
      "Input \u001b[1;32mIn [3]\u001b[0m, in \u001b[0;36mmain\u001b[1;34m(search_movie)\u001b[0m\n\u001b[0;32m     56\u001b[0m driver\u001b[38;5;241m.\u001b[39mget(url\u001b[38;5;241m.\u001b[39mformat(page))\n\u001b[0;32m     57\u001b[0m page \u001b[38;5;241m=\u001b[39m requests\u001b[38;5;241m.\u001b[39mget(url)\n\u001b[1;32m---> 58\u001b[0m soup \u001b[38;5;241m=\u001b[39m BeautifulSoup(\u001b[43mdriver\u001b[49m\u001b[38;5;241;43m.\u001b[39;49m\u001b[43mpage_source\u001b[49m, \u001b[38;5;124m'\u001b[39m\u001b[38;5;124mhtml.parser\u001b[39m\u001b[38;5;124m'\u001b[39m)\n\u001b[0;32m     59\u001b[0m movie_data \u001b[38;5;241m=\u001b[39m soup\u001b[38;5;241m.\u001b[39mfind_all(\u001b[38;5;124m'\u001b[39m\u001b[38;5;124mdiv\u001b[39m\u001b[38;5;124m'\u001b[39m, attrs\u001b[38;5;241m=\u001b[39m{\u001b[38;5;124m'\u001b[39m\u001b[38;5;124mclass\u001b[39m\u001b[38;5;124m'\u001b[39m: \u001b[38;5;124m'\u001b[39m\u001b[38;5;124mlister-item mode-advanced\u001b[39m\u001b[38;5;124m'\u001b[39m})\n\u001b[0;32m     61\u001b[0m \u001b[38;5;28;01mfor\u001b[39;00m item \u001b[38;5;129;01min\u001b[39;00m movie_data:\n",
      "File \u001b[1;32m~\\anaconda\\lib\\site-packages\\selenium\\webdriver\\remote\\webdriver.py:932\u001b[0m, in \u001b[0;36mWebDriver.page_source\u001b[1;34m(self)\u001b[0m\n\u001b[0;32m    922\u001b[0m \u001b[38;5;129m@property\u001b[39m\n\u001b[0;32m    923\u001b[0m \u001b[38;5;28;01mdef\u001b[39;00m \u001b[38;5;21mpage_source\u001b[39m(\u001b[38;5;28mself\u001b[39m) \u001b[38;5;241m-\u001b[39m\u001b[38;5;241m>\u001b[39m \u001b[38;5;28mstr\u001b[39m:\n\u001b[0;32m    924\u001b[0m     \u001b[38;5;124;03m\"\"\"\u001b[39;00m\n\u001b[0;32m    925\u001b[0m \u001b[38;5;124;03m    Gets the source of the current page.\u001b[39;00m\n\u001b[0;32m    926\u001b[0m \n\u001b[1;32m   (...)\u001b[0m\n\u001b[0;32m    930\u001b[0m \u001b[38;5;124;03m            driver.page_source\u001b[39;00m\n\u001b[0;32m    931\u001b[0m \u001b[38;5;124;03m    \"\"\"\u001b[39;00m\n\u001b[1;32m--> 932\u001b[0m     \u001b[38;5;28;01mreturn\u001b[39;00m \u001b[38;5;28;43mself\u001b[39;49m\u001b[38;5;241;43m.\u001b[39;49m\u001b[43mexecute\u001b[49m\u001b[43m(\u001b[49m\u001b[43mCommand\u001b[49m\u001b[38;5;241;43m.\u001b[39;49m\u001b[43mGET_PAGE_SOURCE\u001b[49m\u001b[43m)\u001b[49m[\u001b[38;5;124m'\u001b[39m\u001b[38;5;124mvalue\u001b[39m\u001b[38;5;124m'\u001b[39m]\n",
      "File \u001b[1;32m~\\anaconda\\lib\\site-packages\\selenium\\webdriver\\remote\\webdriver.py:430\u001b[0m, in \u001b[0;36mWebDriver.execute\u001b[1;34m(self, driver_command, params)\u001b[0m\n\u001b[0;32m    428\u001b[0m response \u001b[38;5;241m=\u001b[39m \u001b[38;5;28mself\u001b[39m\u001b[38;5;241m.\u001b[39mcommand_executor\u001b[38;5;241m.\u001b[39mexecute(driver_command, params)\n\u001b[0;32m    429\u001b[0m \u001b[38;5;28;01mif\u001b[39;00m response:\n\u001b[1;32m--> 430\u001b[0m     \u001b[38;5;28;43mself\u001b[39;49m\u001b[38;5;241;43m.\u001b[39;49m\u001b[43merror_handler\u001b[49m\u001b[38;5;241;43m.\u001b[39;49m\u001b[43mcheck_response\u001b[49m\u001b[43m(\u001b[49m\u001b[43mresponse\u001b[49m\u001b[43m)\u001b[49m\n\u001b[0;32m    431\u001b[0m     response[\u001b[38;5;124m'\u001b[39m\u001b[38;5;124mvalue\u001b[39m\u001b[38;5;124m'\u001b[39m] \u001b[38;5;241m=\u001b[39m \u001b[38;5;28mself\u001b[39m\u001b[38;5;241m.\u001b[39m_unwrap_value(\n\u001b[0;32m    432\u001b[0m         response\u001b[38;5;241m.\u001b[39mget(\u001b[38;5;124m'\u001b[39m\u001b[38;5;124mvalue\u001b[39m\u001b[38;5;124m'\u001b[39m, \u001b[38;5;28;01mNone\u001b[39;00m))\n\u001b[0;32m    433\u001b[0m     \u001b[38;5;28;01mreturn\u001b[39;00m response\n",
      "File \u001b[1;32m~\\anaconda\\lib\\site-packages\\selenium\\webdriver\\remote\\errorhandler.py:247\u001b[0m, in \u001b[0;36mErrorHandler.check_response\u001b[1;34m(self, response)\u001b[0m\n\u001b[0;32m    245\u001b[0m         alert_text \u001b[38;5;241m=\u001b[39m value[\u001b[38;5;124m'\u001b[39m\u001b[38;5;124malert\u001b[39m\u001b[38;5;124m'\u001b[39m]\u001b[38;5;241m.\u001b[39mget(\u001b[38;5;124m'\u001b[39m\u001b[38;5;124mtext\u001b[39m\u001b[38;5;124m'\u001b[39m)\n\u001b[0;32m    246\u001b[0m     \u001b[38;5;28;01mraise\u001b[39;00m exception_class(message, screen, stacktrace, alert_text)  \u001b[38;5;66;03m# type: ignore[call-arg]  # mypy is not smart enough here\u001b[39;00m\n\u001b[1;32m--> 247\u001b[0m \u001b[38;5;28;01mraise\u001b[39;00m exception_class(message, screen, stacktrace)\n",
      "\u001b[1;31mWebDriverException\u001b[0m: Message: chrome not reachable\n  (Session info: chrome=103.0.5060.114)\nStacktrace:\nBacktrace:\n\tOrdinal0 [0x00CA6463+2188387]\n\tOrdinal0 [0x00C3E461+1762401]\n\tOrdinal0 [0x00B53C40+801856]\n\tOrdinal0 [0x00B48932+756018]\n\tOrdinal0 [0x00B49168+758120]\n\tOrdinal0 [0x00B4AA22+764450]\n\tOrdinal0 [0x00B44379+738169]\n\tOrdinal0 [0x00B550D0+807120]\n\tOrdinal0 [0x00BAC402+1164290]\n\tOrdinal0 [0x00B9C5F6+1099254]\n\tOrdinal0 [0x00B76BE0+945120]\n\tOrdinal0 [0x00B77AD6+948950]\n\tGetHandleVerifier [0x00F471F2+2712546]\n\tGetHandleVerifier [0x00F3886D+2652765]\n\tGetHandleVerifier [0x00D3002A+520730]\n\tGetHandleVerifier [0x00D2EE06+516086]\n\tOrdinal0 [0x00C4468B+1787531]\n\tOrdinal0 [0x00C48E88+1805960]\n\tOrdinal0 [0x00C48F75+1806197]\n\tOrdinal0 [0x00C51DF1+1842673]\n\tBaseThreadInitThunk [0x7710FA29+25]\n\tRtlGetAppContainerNamedObjectPath [0x77C37A9E+286]\n\tRtlGetAppContainerNamedObjectPath [0x77C37A6E+238]\n"
     ]
    }
   ],
   "source": [
    "main('crime')"
   ]
  },
  {
   "cell_type": "code",
   "execution_count": null,
   "id": "355f8c55",
   "metadata": {},
   "outputs": [],
   "source": []
  }
 ],
 "metadata": {
  "kernelspec": {
   "display_name": "Python 3 (ipykernel)",
   "language": "python",
   "name": "python3"
  },
  "language_info": {
   "codemirror_mode": {
    "name": "ipython",
    "version": 3
   },
   "file_extension": ".py",
   "mimetype": "text/x-python",
   "name": "python",
   "nbconvert_exporter": "python",
   "pygments_lexer": "ipython3",
   "version": "3.9.12"
  }
 },
 "nbformat": 4,
 "nbformat_minor": 5
}
